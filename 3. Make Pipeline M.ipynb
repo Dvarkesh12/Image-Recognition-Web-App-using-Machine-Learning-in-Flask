{
 "cells": [
  {
   "cell_type": "code",
   "execution_count": 2,
   "id": "cd11bec6",
   "metadata": {},
   "outputs": [],
   "source": [
    "import numpy as np\n",
    "import pandas as pd\n",
    "import scipy\n",
    "import sklearn\n",
    "from sklearn.pipeline import make_pipeline\n",
    "import os\n",
    "\n",
    "# skimage\n",
    "import skimage\n",
    "import skimage.color\n",
    "import skimage.feature\n",
    "import skimage.transform\n",
    "import skimage.io"
   ]
  },
  {
   "cell_type": "code",
   "execution_count": 5,
   "id": "0098fdca",
   "metadata": {},
   "outputs": [],
   "source": [
    "from sklearn.base import BaseEstimator,TransformerMixin\n",
    "\n",
    "class rgb2gray_transfrom(BaseEstimator,TransformerMixin):\n",
    "    import skimage.color\n",
    "    def __init__(self):\n",
    "        pass\n",
    "    \n",
    "    def fit(self,X,y=None):\n",
    "        return self\n",
    "    \n",
    "    def transform(self,X,y=None):\n",
    "        return np.array([skimage.color.regb2gray(x) for x in X])\n",
    "    \n",
    "class hogtransformer(BaseEstimator,TransformerMixin):\n",
    "    import skimage.feature\n",
    "    def __init__(self,orientations=10,pixels_per_cell=(8,8),cells_per_block=(2,2),):\n",
    "        self.orientations = orientations\n",
    "        self.pixels_per_cell = pixels_per_cell\n",
    "        self.cells_per_block = cells_per_block\n",
    "        \n",
    "    def fit(self,X,y=None):\n",
    "        return self\n",
    "    \n",
    "    def transform(self,X,y=None):\n",
    "        def local_hog(img):\n",
    "            hog_features = skimage.feature.hog(img,orientations = self.orientations,\n",
    "                                              pixels_per_cell = self.pixels_per_cell ,\n",
    "                                              cells_per_block = self.cells_per_block)\n",
    "            \n",
    "            return hog_features\n",
    "        \n",
    "        hfeatures = np.array([local_hog(x) for x in X])\n",
    "        return hfeatures"
   ]
  },
  {
   "cell_type": "code",
   "execution_count": 6,
   "id": "0944bbbd",
   "metadata": {},
   "outputs": [],
   "source": [
    "import matplotlib.pyplot as plt\n",
    "%matplotlib inline"
   ]
  },
  {
   "cell_type": "code",
   "execution_count": 7,
   "id": "f04ebf28",
   "metadata": {},
   "outputs": [],
   "source": [
    "# pipeline model \n",
    "image = skimage.io.imread('eagle.jpg')"
   ]
  },
  {
   "cell_type": "code",
   "execution_count": 21,
   "id": "8d153153",
   "metadata": {},
   "outputs": [],
   "source": [
    "image_resize = skimage.transform.resize(image,(80,80))\n",
    "image_scale = 255*image_resize\n",
    "image_transform = image_scale.astype(np.uint8)\n",
    "# rgb to gray\n",
    "gray = skimage.color.rgb2gray(image_transform)\n",
    "# hog feature\n",
    "feature_vector = skimage.feature.hog(gray,orientations=10,pixels_per_cell=(8,8),cells_per_block=(2,2))\n"
   ]
  },
  {
   "cell_type": "code",
   "execution_count": 22,
   "id": "0dc2bc1b",
   "metadata": {},
   "outputs": [
    {
     "data": {
      "text/plain": [
       "array([0.23151945, 0.0690082 , 0.25927445, ..., 0.06118128, 0.0255605 ,\n",
       "       0.00889438])"
      ]
     },
     "execution_count": 22,
     "metadata": {},
     "output_type": "execute_result"
    }
   ],
   "source": [
    "feature_vector"
   ]
  },
  {
   "cell_type": "code",
   "execution_count": 24,
   "id": "d6da20f0",
   "metadata": {},
   "outputs": [],
   "source": [
    "import pickle\n",
    "# load the model\n",
    "model = pickle.load(open('dsa_image_classification_sgd.pickle','rb'))\n",
    "scaler = pickle.load(open('dsa_scalar.pickle','rb'))"
   ]
  },
  {
   "cell_type": "code",
   "execution_count": 25,
   "id": "3ee9eff6",
   "metadata": {},
   "outputs": [
    {
     "data": {
      "text/plain": [
       "(3240,)"
      ]
     },
     "execution_count": 25,
     "metadata": {},
     "output_type": "execute_result"
    }
   ],
   "source": [
    "feature_vector.shape"
   ]
  },
  {
   "cell_type": "code",
   "execution_count": null,
   "id": "ac89f29d",
   "metadata": {},
   "outputs": [],
   "source": []
  },
  {
   "cell_type": "code",
   "execution_count": 26,
   "id": "51d2eac1",
   "metadata": {},
   "outputs": [
    {
     "data": {
      "text/plain": [
       "{'alpha': 0.001,\n",
       " 'average': False,\n",
       " 'class_weight': None,\n",
       " 'early_stopping': True,\n",
       " 'epsilon': 0.1,\n",
       " 'eta0': 0.0,\n",
       " 'fit_intercept': True,\n",
       " 'l1_ratio': 0.15,\n",
       " 'learning_rate': 'optimal',\n",
       " 'loss': 'squared_hinge',\n",
       " 'max_iter': 1000,\n",
       " 'n_iter_no_change': 5,\n",
       " 'n_jobs': None,\n",
       " 'penalty': 'l2',\n",
       " 'power_t': 0.5,\n",
       " 'random_state': None,\n",
       " 'shuffle': True,\n",
       " 'tol': 0.001,\n",
       " 'validation_fraction': 0.1,\n",
       " 'verbose': 0,\n",
       " 'warm_start': False}"
      ]
     },
     "execution_count": 26,
     "metadata": {},
     "output_type": "execute_result"
    }
   ],
   "source": [
    "model.get_params()"
   ]
  },
  {
   "cell_type": "code",
   "execution_count": 33,
   "id": "38c5d327",
   "metadata": {},
   "outputs": [],
   "source": [
    "#  r =feature_vector.reshape(1,-1)"
   ]
  },
  {
   "cell_type": "code",
   "execution_count": 34,
   "id": "612e110c",
   "metadata": {},
   "outputs": [
    {
     "data": {
      "text/plain": [
       "(1, 3240)"
      ]
     },
     "execution_count": 34,
     "metadata": {},
     "output_type": "execute_result"
    }
   ],
   "source": [
    "# r.shape"
   ]
  },
  {
   "cell_type": "code",
   "execution_count": 42,
   "id": "58add9bc",
   "metadata": {},
   "outputs": [],
   "source": [
    "scalex = scaler.transform(feature_vector.reshape(1,-1))\n",
    "result = model.predict(scalex)"
   ]
  },
  {
   "cell_type": "code",
   "execution_count": 43,
   "id": "811f32a6",
   "metadata": {},
   "outputs": [
    {
     "data": {
      "text/plain": [
       "array(['eagle'], dtype='<U8')"
      ]
     },
     "execution_count": 43,
     "metadata": {},
     "output_type": "execute_result"
    }
   ],
   "source": [
    "result"
   ]
  },
  {
   "cell_type": "code",
   "execution_count": 73,
   "id": "83cd99e3",
   "metadata": {},
   "outputs": [],
   "source": [
    "# model.predict_proba(scalex) ##probability estimates are not available for loss='squared_hinge'"
   ]
  },
  {
   "cell_type": "code",
   "execution_count": 44,
   "id": "202d2b21",
   "metadata": {},
   "outputs": [],
   "source": [
    "# cal the probability\n",
    "decision_value = model.decision_function(scalex)"
   ]
  },
  {
   "cell_type": "code",
   "execution_count": 45,
   "id": "a18dffdf",
   "metadata": {},
   "outputs": [
    {
     "data": {
      "text/plain": [
       "array([[-8.96294343e+14, -9.54538008e+14, -9.48524286e+14,\n",
       "        -1.08547883e+15, -1.66611605e+15, -1.11547545e+15,\n",
       "        -2.81852050e+14, -1.21348817e+14, -1.46367552e+15,\n",
       "        -1.08967729e+15, -1.74475963e+15, -2.99995803e+14,\n",
       "        -1.77451716e+15, -1.31045242e+15, -8.31020630e+14,\n",
       "        -5.96571318e+14, -8.52775898e+14, -8.09587837e+14,\n",
       "        -8.45441864e+14, -2.03269990e+15]])"
      ]
     },
     "execution_count": 45,
     "metadata": {},
     "output_type": "execute_result"
    }
   ],
   "source": [
    "decision_value"
   ]
  },
  {
   "cell_type": "code",
   "execution_count": 48,
   "id": "cedc7290",
   "metadata": {},
   "outputs": [],
   "source": [
    "labels = model.classes_"
   ]
  },
  {
   "cell_type": "code",
   "execution_count": 50,
   "id": "cdb8f61a",
   "metadata": {},
   "outputs": [],
   "source": [
    "decision_value = decision_value.flatten()\n"
   ]
  },
  {
   "cell_type": "code",
   "execution_count": 51,
   "id": "5b18bd24",
   "metadata": {},
   "outputs": [
    {
     "data": {
      "text/plain": [
       "<BarContainer object of 20 artists>"
      ]
     },
     "execution_count": 51,
     "metadata": {},
     "output_type": "execute_result"
    },
    {
     "data": {
      "image/png": "[encoded data removed]",
      "text/plain": [
       "<Figure size 432x288 with 1 Axes>"
      ]
     },
     "metadata": {
      "needs_background": "light"
     },
     "output_type": "display_data"
    }
   ],
   "source": [
    "plt.barh(labels,decision_value)"
   ]
  },
  {
   "cell_type": "code",
   "execution_count": 52,
   "id": "abd2c45b",
   "metadata": {},
   "outputs": [
    {
     "data": {
      "text/plain": [
       "array([ 0.27823752,  0.16227288,  0.17424635, -0.09843367, -1.25449737,\n",
       "       -0.15815771,  1.50160798,  1.82117405, -0.85143304, -0.10679291,\n",
       "       -1.41107877,  1.4654833 , -1.47032678, -0.54636189,  0.40819916,\n",
       "        0.87499379,  0.36488386,  0.45087241,  0.37948611, -1.98437526])"
      ]
     },
     "execution_count": 52,
     "metadata": {},
     "output_type": "execute_result"
    }
   ],
   "source": [
    "# calculate z score\n",
    "z = scipy.stats.zscore(decision_value)\n",
    "z"
   ]
  },
  {
   "cell_type": "code",
   "execution_count": 53,
   "id": "735338e9",
   "metadata": {},
   "outputs": [
    {
     "data": {
      "text/plain": [
       "array([0.04177042, 0.03719684, 0.03764489, 0.02866043, 0.00902008,\n",
       "       0.02699882, 0.14196193, 0.19541491, 0.01349768, 0.02842185,\n",
       "       0.00771273, 0.13692513, 0.00726904, 0.0183126 , 0.04756752,\n",
       "       0.07586419, 0.0455511 , 0.04964131, 0.04622113, 0.00434739])"
      ]
     },
     "execution_count": 53,
     "metadata": {},
     "output_type": "execute_result"
    }
   ],
   "source": [
    "prob_value = scipy.special.softmax(z)\n",
    "prob_value"
   ]
  },
  {
   "cell_type": "code",
   "execution_count": 54,
   "id": "95d5efd5",
   "metadata": {},
   "outputs": [
    {
     "data": {
      "image/png": "[encoded data removed]",
      "text/plain": [
       "<Figure size 432x288 with 1 Axes>"
      ]
     },
     "metadata": {
      "needs_background": "light"
     },
     "output_type": "display_data"
    }
   ],
   "source": [
    "plt.barh(labels,prob_value)\n",
    "plt.grid()"
   ]
  },
  {
   "cell_type": "code",
   "execution_count": 62,
   "id": "a05432cd",
   "metadata": {},
   "outputs": [
    {
     "data": {
      "text/plain": [
       "array([19, 12, 10,  4,  8, 13,  5,  9,  3,  1,  2,  0, 16, 18, 14, 17, 15,\n",
       "       11,  6,  7], dtype=int64)"
      ]
     },
     "execution_count": 62,
     "metadata": {},
     "output_type": "execute_result"
    }
   ],
   "source": [
    "prob_value.argsort()"
   ]
  },
  {
   "cell_type": "code",
   "execution_count": 69,
   "id": "62cccfce",
   "metadata": {},
   "outputs": [
    {
     "data": {
      "text/plain": [
       "array([ 7,  6, 11, 15, 17], dtype=int64)"
      ]
     },
     "execution_count": 69,
     "metadata": {},
     "output_type": "execute_result"
    }
   ],
   "source": [
    "top_5_prob_ind = prob_value.argsort()[::-1][:5]\n",
    "top_5_prob_ind"
   ]
  },
  {
   "cell_type": "code",
   "execution_count": 67,
   "id": "fb54df18",
   "metadata": {},
   "outputs": [],
   "source": [
    "top_labels = labels[top_5_prob_ind]\n",
    "top_prob = prob_value[top_5_prob_ind]"
   ]
  },
  {
   "cell_type": "code",
   "execution_count": 68,
   "id": "4724896e",
   "metadata": {},
   "outputs": [
    {
     "data": {
      "text/plain": [
       "(array([0.19541491, 0.14196193, 0.13692513, 0.07586419, 0.04964131]),\n",
       " array(['eagle', 'duck', 'monkey', 'pigeon', 'sheep'], dtype='<U8'))"
      ]
     },
     "execution_count": 68,
     "metadata": {},
     "output_type": "execute_result"
    }
   ],
   "source": [
    "top_prob,top_labels"
   ]
  },
  {
   "cell_type": "code",
   "execution_count": 70,
   "id": "3091edb3",
   "metadata": {},
   "outputs": [],
   "source": [
    "top_dict = dict()\n",
    "for key,val in zip(top_labels,top_prob):\n",
    "    top_dict.update({key:np.round(val,3)})"
   ]
  },
  {
   "cell_type": "code",
   "execution_count": 71,
   "id": "11535a2a",
   "metadata": {},
   "outputs": [
    {
     "data": {
      "text/plain": [
       "{'eagle': 0.195,\n",
       " 'duck': 0.142,\n",
       " 'monkey': 0.137,\n",
       " 'pigeon': 0.076,\n",
       " 'sheep': 0.05}"
      ]
     },
     "execution_count": 71,
     "metadata": {},
     "output_type": "execute_result"
    }
   ],
   "source": [
    "top_dict"
   ]
  },
  {
   "cell_type": "raw",
   "id": "7983c8d9",
   "metadata": {},
   "source": [
    "scaler and model are also input which are loaded from pickle"
   ]
  },
  {
   "cell_type": "code",
   "execution_count": 74,
   "id": "cdedb673",
   "metadata": {},
   "outputs": [],
   "source": [
    "def pipeline_model(path,scaler_transform,model_sgd):\n",
    "    # pipeline model\n",
    "    image = skimage.io.imread(path)\n",
    "    # transform image into 80 x 80\n",
    "    image_resize = skimage.transform.resize(image,(80,80))\n",
    "    image_scale = 255*image_resize\n",
    "    image_transform = image_scale.astype(np.uint8)\n",
    "    # rgb to gray\n",
    "    gray = skimage.color.rgb2gray(image_transform)\n",
    "    # hog feature\n",
    "    feature_vector = skimage.feature.hog(gray,\n",
    "                                  orientations=10,\n",
    "                                  pixels_per_cell=(8,8),cells_per_block=(2,2))\n",
    "    \n",
    "    # scaling\n",
    "    scalex = scaler_transform.transform(feature_vector.reshape(1,-1))\n",
    "    result = model_sgd.predict(scalex)   \n",
    "        \n",
    "    # decision function # confidence   \n",
    "    decision_value = model_sgd.decision_function(scalex).flatten()\n",
    "    labels = model_sgd.classes_\n",
    "    \n",
    "    # probability\n",
    "    z = scipy.stats.zscore(decision_value)\n",
    "    prob_value = scipy.special.softmax(z)\n",
    "    \n",
    "    \n",
    "    # top 5\n",
    "    top_5_prob_ind = prob_value.argsort()[::-1][:5]\n",
    "    top_labels = labels[top_5_prob_ind]\n",
    "    top_prob = prob_value[top_5_prob_ind]\n",
    "    # put in dictornary\n",
    "    top_dict = dict()\n",
    "    for key,val in zip(top_labels,top_prob):\n",
    "        top_dict.update({key:np.round(val,3)})\n",
    "    \n",
    "    return top_dict\n",
    "    "
   ]
  },
  {
   "cell_type": "code",
   "execution_count": 76,
   "id": "f768c371",
   "metadata": {},
   "outputs": [
    {
     "data": {
      "text/plain": [
       "{'eagle': 0.189,\n",
       " 'duck': 0.142,\n",
       " 'monkey': 0.138,\n",
       " 'pigeon': 0.075,\n",
       " 'sheep': 0.052}"
      ]
     },
     "execution_count": 76,
     "metadata": {},
     "output_type": "execute_result"
    }
   ],
   "source": [
    "res = pipeline_model('eagle.jpg',scaler,model)\n",
    "res"
   ]
  },
  {
   "cell_type": "code",
   "execution_count": null,
   "id": "ed089db6",
   "metadata": {},
   "outputs": [],
   "source": []
  }
 ],
 "metadata": {
  "kernelspec": {
   "display_name": "Python 3",
   "language": "python",
   "name": "python3"
  },
  "language_info": {
   "codemirror_mode": {
    "name": "ipython",
    "version": 3
   },
   "file_extension": ".py",
   "mimetype": "text/x-python",
   "name": "python",
   "nbconvert_exporter": "python",
   "pygments_lexer": "ipython3",
   "version": "3.8.8"
  }
 },
 "nbformat": 4,
 "nbformat_minor": 5
}
